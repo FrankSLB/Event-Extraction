{
 "cells": [
  {
   "cell_type": "code",
   "execution_count": 3,
   "metadata": {
    "collapsed": true
   },
   "outputs": [],
   "source": [
    "import os\n",
    "import sys\n",
    "import nltk\n",
    "from sklearn.feature_extraction.text import TfidfVectorizer\n",
    "\n",
    "# nltk.download()"
   ]
  },
  {
   "cell_type": "code",
   "execution_count": 4,
   "metadata": {},
   "outputs": [],
   "source": [
    "class Output:\n",
    "    def __init__(self):\n",
    "        self.id = \"\"\n",
    "        self.incident = \"\"\n",
    "        self.weapon = \"\"\n",
    "        self.perp_ind = \"\"\n",
    "        self.perp_ord = \"\"\n",
    "        self.target = \"\"\n",
    "        self.victim = \"\""
   ]
  },
  {
   "cell_type": "code",
   "execution_count": 5,
   "metadata": {
    "collapsed": true
   },
   "outputs": [],
   "source": [
    "files = []\n",
    "data_dir = os.path.abspath(\"developset/texts/\")\n",
    "ans_files = []\n",
    "ans_dir = os.path.abspath(\"developset/answers/\")\n",
    "\n",
    "data = {}\n",
    "output = {}\n",
    "\n",
    "for (dirpath, dirnames, filenames) in os.walk(data_dir):\n",
    "    files = filenames\n",
    "\n",
    "for file in files:\n",
    "    file_path = os.path.join(data_dir, file)\n",
    "    with open(file_path, 'r') as f:\n",
    "        d_id = f.readline().strip()\n",
    "        d = f.readlines()\n",
    "        data[d_id] = d\n",
    "        o = Output()\n",
    "        o.id = d_id\n",
    "        output[d_id] = o\n",
    "\n",
    "for temp in data:\n",
    "    for i, x in enumerate(data[temp]):\n",
    "        data[temp][i] = x.strip()\n",
    "    data[temp] = \" \".join(data[temp])\n",
    "\n",
    "test_string = data[list(data)[-1]]\n",
    "del(data[list(data)[-1]])\n",
    "\n",
    "train_data = \"\\n\".join([data[d] for d in data])"
   ]
  },
  {
   "cell_type": "code",
   "execution_count": 7,
   "metadata": {},
   "outputs": [],
   "source": [
    "from sklearn.feature_extraction.text import CountVectorizer, TfidfVectorizer\n",
    "import numpy as np\n",
    "\n",
    "def display_scores(vectorizer, tfidf_result):\n",
    "    scores = zip(vectorizer.get_feature_names(),\n",
    "                 np.asarray(tfidf_result.sum(axis=0)).ravel())\n",
    "    sorted_scores = sorted(scores, key=lambda x: x[1], reverse=True)\n",
    "    # for item in sorted_scores:\n",
    "    #     print(\"{0:50} Score: {1}\".format(item[0], item[1]))\n",
    "    return sorted_scores\n",
    "\n",
    "\n",
    "vect = TfidfVectorizer(input='filename',\n",
    "                           token_pattern='(?u)\\\\b[a-zA-Z]\\\\w{2,}\\\\b',\n",
    "                           max_df=0.05,\n",
    "                           stop_words='english',\n",
    "                           ngram_range=(1, 3))\n",
    "res = vect.fit_transform([os.path.join(data_dir, file) for file in files])\n",
    "results = display_scores(vect, res)\n",
    "# \n",
    "# for x in results:\n",
    "#     if \"fire\" in x[0]:\n",
    "#         print(x)"
   ]
  },
  {
   "cell_type": "code",
   "execution_count": 37,
   "metadata": {},
   "outputs": [
    {
     "name": "stdout",
     "output_type": "stream",
     "text": [
      "[nan, 'Knife or Other Sharp Object', 'Time Fuse', 'Poisoning', 'Suicide (carried bodily by human being)', 'Suffocation', 'Other Gun Type', 'Arson/Fire', 'Letter Bomb', 'Rope or Other Strangling Device', 'Unknown', 'Land Mine', 'Unknown Gun Type', 'Fake Weapons', 'Other', 'Dynamite/TNT', 'Grenade', 'Vehicle', 'Other Explosive Type', 'Remote Trigger', 'Molotov Cocktail/Petrol Bomb', 'Explosive', 'Firearms', 'Rifle/Shotgun (non-automatic)', 'Sticky Bomb', 'Vehicle (not to include vehicle-borne explosives, i.e., car or truck bombs)', 'Blunt Object', 'Biological', 'Melee', 'Sabotage Equipment', 'Gasoline or Alcohol', 'Automatic Weapon', 'Unknown Explosive Type', 'Handgun', 'Explosives/Bombs/Dynamite', 'Hands, Feet, Fists', 'Incendiary', 'Unknown Weapon Type', 'Pressure Trigger', 'Chemical', 'Projectile (rockets, mortars, RPGs, etc.)']\n"
     ]
    }
   ],
   "source": [
    "import pandas as pd\n",
    "\n",
    "data = pd.read_csv(\"globalterrorismdb_0617dist.csv\", header=None, dtype=str)\n",
    "\n",
    "weapons = []\n",
    "\n",
    "for col in data:\n",
    "    weapons.extend(data[col].values)\n",
    "    \n",
    "weapons = [x for x in set(weapons) if str(x) is not 'nan']\n",
    "print(weapons)"
   ]
  }
 ],
 "metadata": {
  "kernelspec": {
   "display_name": "Python 3",
   "language": "python",
   "name": "python3"
  },
  "language_info": {
   "codemirror_mode": {
    "name": "ipython",
    "version": 3
   },
   "file_extension": ".py",
   "mimetype": "text/x-python",
   "name": "python",
   "nbconvert_exporter": "python",
   "pygments_lexer": "ipython3",
   "version": "3.6.2"
  }
 },
 "nbformat": 4,
 "nbformat_minor": 1
}
