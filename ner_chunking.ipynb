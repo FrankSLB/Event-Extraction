{
 "cells": [
  {
   "cell_type": "code",
   "execution_count": 54,
   "metadata": {
    "collapsed": true
   },
   "outputs": [],
   "source": [
    "from nltk import word_tokenize, sent_tokenize, pos_tag_sents, ne_chunk_sents\n",
    "import os\n",
    "import sys\n",
    "import re"
   ]
  },
  {
   "cell_type": "code",
   "execution_count": 38,
   "metadata": {},
   "outputs": [],
   "source": [
    "def read_files():\n",
    "    output = []\n",
    "    data_file = os.path.abspath(\"developset/texts/merged-file.txt\")\n",
    "    p = re.compile('[A-Z]{3}[1-9]*-[A-Z]{3}[1-9]*-[0-9]{4}')\n",
    "    #  LIMA, 11 JAN 90 -- [TEXT] \n",
    "    with open(data_file, 'r') as f:\n",
    "        content = f.readlines()\n",
    "    file = [1]\n",
    "    for c in content:\n",
    "        if p.match(c) is None:\n",
    "            if file[0] != 1:\n",
    "                file = \"\".join(file)\n",
    "                output.append(file)\n",
    "            file = list()\n",
    "            file.append(c)\n",
    "        else:\n",
    "            file.append(c)\n",
    "\n",
    "    return str(\"\\n\".join(output)).lower()"
   ]
  },
  {
   "cell_type": "code",
   "execution_count": 43,
   "metadata": {},
   "outputs": [],
   "source": [
    "class TagChunker(nltk.chunk.ChunkParserI):\n",
    "    def __init__(self, chunk_tagger):\n",
    "        self._chunk_tagger = chunk_tagger\n",
    " \n",
    "    def parse(self, tokens):\n",
    "        # split words and part of speech tags\n",
    "        (words, tags) = zip(*tokens)\n",
    "        # get IOB chunk tags\n",
    "        chunks = self._chunk_tagger.tag(tags)\n",
    "        # join words with chunk tags\n",
    "        wtc = itertools.izip(words, chunks)\n",
    "        # w = word, t = part-of-speech tag, c = chunk tag\n",
    "        lines = [' '.join([w, t, c]) for (w, (t, c)) in wtc if c]\n",
    "        # create tree from conll formatted chunk lines\n",
    "        return nltk.chunk.conllstr2tree('\\n'.join(lines))"
   ]
  },
  {
   "cell_type": "code",
   "execution_count": 44,
   "metadata": {},
   "outputs": [],
   "source": [
    "def conll_tag_chunks(chunk_sents):\n",
    "    tag_sents = [nltk.chunk.tree2conlltags(tree) for tree in chunk_sents]\n",
    "    return [[(t, c) for (w, t, c) in chunk_tags] for chunk_tags in tag_sents]"
   ]
  },
  {
   "cell_type": "code",
   "execution_count": 45,
   "metadata": {},
   "outputs": [],
   "source": [
    "input_data = read_files()\n",
    "q = re.compile('.*-.*\\]')\n",
    "err = q.findall(input_data)\n",
    "\n",
    "for e in err:\n",
    "    input_data = input_data.replace(e, \"\")"
   ]
  },
  {
   "cell_type": "code",
   "execution_count": 68,
   "metadata": {},
   "outputs": [],
   "source": [
    "sents = [word_tokenize(sent) for sent in sent_tokenize(input_data)]\n",
    "\n",
    "tagged_sents = pos_tag_sents(sents)\n",
    "\n",
    "ne_chunked_sentences = []\n",
    "\n",
    "for c in ne_chunk_sents(tagged_sents):\n",
    "    ne_chunked_sentences.append(c)\n"
   ]
  },
  {
   "cell_type": "code",
   "execution_count": 70,
   "metadata": {
    "collapsed": true
   },
   "outputs": [
    {
     "name": "stdout",
     "output_type": "stream",
     "text": [
      "(S\n  the/DT\n  salvadoran/NN\n  army/NN\n  today/NN\n  prevented/VBD\n  the/DT\n  occupation/NN\n  of/IN\n  cities/NNS\n  in/IN\n  the/DT\n  eastern/JJ\n  part/NN\n  of/IN\n  el/NN\n  salvador/NN\n  ,/,\n  waging/VBG\n  strong/JJ\n  clashes/NNS\n  between/IN\n  midnight/NN\n  and/CC\n  dawn/NN\n  ,/,\n  according/VBG\n  to/TO\n  reports/NNS\n  by/IN\n  military/JJ\n  sources/NNS\n  ./.)\n"
     ]
    }
   ],
   "source": [
    "print(ne_chunked_sentences[0])"
   ]
  },
  {
   "cell_type": "code",
   "execution_count": null,
   "metadata": {},
   "outputs": [],
   "source": []
  }
 ],
 "metadata": {
  "kernelspec": {
   "display_name": "Python 2",
   "language": "python",
   "name": "python2"
  },
  "language_info": {
   "codemirror_mode": {
    "name": "ipython",
    "version": 2
   },
   "file_extension": ".py",
   "mimetype": "text/x-python",
   "name": "python",
   "nbconvert_exporter": "python",
   "pygments_lexer": "ipython2",
   "version": "2.7.6"
  }
 },
 "nbformat": 4,
 "nbformat_minor": 0
}
